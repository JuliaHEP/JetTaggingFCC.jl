{
 "cells": [
  {
   "cell_type": "code",
   "execution_count": null,
   "id": "21a84728",
   "metadata": {},
   "outputs": [],
   "source": "using EDM4hep\nusing EDM4hep.RootIO\nusing LorentzVectorHEP\nusing JSON\nusing ONNXRunTime\nusing PhysicalConstants\nusing StructArrays\nusing JetReconstruction\nusing JetTaggingFCC"
  },
  {
   "cell_type": "markdown",
   "id": "55l0znnzdmv",
   "source": "# Simple Jet Flavour Tagging Example\n\nThis notebook demonstrates how to:\n1. Load EDM4hep event data\n2. Reconstruct jets using JetReconstruction\n3. Extract features for flavour tagging\n4. Run ONNX neural network inference\n5. Get flavour probabilities for each jet",
   "metadata": {}
  },
  {
   "cell_type": "code",
   "execution_count": null,
   "id": "379f4304",
   "metadata": {},
   "outputs": [],
   "source": "# Paths to model files\nmodel_dir = \"data/wc_pt_7classes_12_04_2023\"\nonnx_path = joinpath(model_dir, \"fccee_flavtagging_edm4hep_wc_v1.onnx\")\njson_path = joinpath(model_dir, \"fccee_flavtagging_edm4hep_wc_v1.json\")\n\n# Check if model files exist\nif !isfile(onnx_path)\n    error(\"ONNX model not found at: $onnx_path\")\nend\nif !isfile(json_path)\n    error(\"JSON config not found at: $json_path\")\nend\n\nprintln(\"Loading flavour tagging model...\")\nmodel, config = JetTaggingFCC.setup_onnx_runtime(onnx_path, json_path)\n\nprintln(\"\\nThe model predicts these flavour classes:\")\nfor class_name in config[\"output_names\"]\n    println(\"  - $class_name\")\nend"
  },
  {
   "cell_type": "code",
   "execution_count": null,
   "id": "51c71156",
   "metadata": {},
   "outputs": [],
   "source": "# Path to ROOT file with EDM4hep data\nedm4hep_path = \"data/events_080263084.root\"\nif !isfile(edm4hep_path)\n    error(\"EDM4hep data file not found at: $edm4hep_path\")\nend\n\nprintln(\"\\nLoading EDM4hep data...\")\nreader = RootIO.Reader(edm4hep_path)\nevents = RootIO.get(reader, \"events\")\nprintln(\"Loaded $(length(events)) events\")\n\n# Process a specific event (event #12 as in the script)\nevent_id = 12\nprintln(\"\\nProcessing event #$event_id\")\nevt = events[event_id]\n\n# Get reconstructed particles and tracks\nrecps = RootIO.get(reader, evt, \"ReconstructedParticles\")\ntracks = RootIO.get(reader, evt, \"EFlowTrack_1\")\n\n# Get MC particles and links for vertex information\nmcps = RootIO.get(reader, evt, \"Particle\")\nMCRecoLinks = RootIO.get(reader, evt, \"MCRecoAssociations\")\n\n# Extract MC vertices for each reconstructed particle\nmc_vertices = Vector{LorentzVector{Float32}}(undef, length(recps))\nreco_to_mc = Dict(link.rec_idx.index => link.sim_idx.index for link in MCRecoLinks)\nfor (rec_idx, mc_idx) in reco_to_mc\n    if rec_idx < length(recps) && mc_idx < length(mcps)\n        mc_vertices[rec_idx + 1] = LorentzVector(Float32(mcps[mc_idx + 1].vertex.x),\n                                                 Float32(mcps[mc_idx + 1].vertex.y),\n                                                 Float32(mcps[mc_idx + 1].vertex.z),\n                                                 Float32(mcps[mc_idx + 1].time))\n    end\nend\n\n# Fill any missing vertices with (0,0,0,0)\nfor i in 1:length(recps)\n    if !isassigned(mc_vertices, i)\n        mc_vertices[i] = LorentzVector(0.0f0, 0.0f0, 0.0f0, 0.0f0)\n    end\nend\n\n# Get needed collections for feature extraction\nbz = RootIO.get(reader, evt, \"magFieldBz\", register = false)[1]\ntrackdata = RootIO.get(reader, evt, \"EFlowTrack\")\ntrackerhits = RootIO.get(reader, evt, \"TrackerHits\")\ngammadata = RootIO.get(reader, evt, \"EFlowPhoton\")\nnhdata = RootIO.get(reader, evt, \"EFlowNeutralHadron\")\ncalohits = RootIO.get(reader, evt, \"CalorimeterHits\")\ndNdx = RootIO.get(reader, evt, \"EFlowTrack_2\")\ntrack_L = RootIO.get(reader, evt, \"EFlowTrack_L\", register = false)\n\nprintln(\"  - $(length(recps)) reconstructed particles\")\nprintln(\"  - $(length(tracks)) tracks\")\nprintln(\"  - Magnetic field Bz = $bz T\")\n\n# Print the primary vertex that will be used\nprimary_vertex = LorentzVector(0.0f0, 0.0f0, 0.0f0, 0.0f0)\nfor vertex in mc_vertices\n    if vertex.x != 0.0 || vertex.y != 0.0 || vertex.z != 0.0\n        primary_vertex = vertex\n        break\n    end\nend\nprintln(\"  - Primary vertex: ($(round(primary_vertex.x, digits=3)), $(round(primary_vertex.y, digits=3)), $(round(primary_vertex.z, digits=3))) mm\")"
  },
  {
   "cell_type": "code",
   "execution_count": null,
   "id": "f96fe81b",
   "metadata": {},
   "outputs": [],
   "source": "# Reconstruct jets\nprintln(\"\\nReconstructing jets...\")\ncs = jet_reconstruct(recps; p = 1.0, R = 2.0, algorithm = JetAlgorithm.EEKt)\n\n# Get 2 exclusive jets\njets = exclusive_jets(cs; njets = 2, T = EEJet)\nprintln(\"Found $(length(jets)) jets\")\n\n# Print jet properties\nfor (i, jet) in enumerate(jets)\n    println(\"\\nJet $i:\")\n    println(\"  - Energy: $(round(jet.E, digits=2)) GeV\")\n    println(\"  - Pt: $(round(JetReconstruction.pt(jet), digits=2)) GeV\")\n    println(\"  - Eta: $(round(JetReconstruction.eta(jet), digits=3))\")\n    println(\"  - Phi: $(round(JetReconstruction.phi(jet), digits=3))\")\n    println(\"  - Mass: $(round(JetReconstruction.mass(jet), digits=2)) GeV\")\nend"
  },
  {
   "cell_type": "code",
   "execution_count": null,
   "id": "5a50c7e7",
   "metadata": {},
   "outputs": [],
   "source": "# Get jet constituents\nprintln(\"\\nExtracting jet constituents...\")\nconstituent_indices = [constituent_indexes(jet, cs) for jet in jets]\n\njet_constituents = JetTaggingFCC.build_constituents_cluster(recps, constituent_indices)\n\nfor (i, constituents) in enumerate(jet_constituents)\n    println(\"  - Jet $i has $(length(constituents)) constituents\")\nend"
  },
  {
   "cell_type": "code",
   "execution_count": null,
   "id": "4f46c6c3",
   "metadata": {},
   "outputs": [],
   "source": "# Extract features for flavour tagging\nprintln(\"\\nExtracting features for flavour tagging...\")\nfeature_data = JetTaggingFCC.extract_features(jets,\n                                              jet_constituents,\n                                              tracks,\n                                              bz,\n                                              track_L,\n                                              config,\n                                              trackdata,\n                                              trackerhits,\n                                              gammadata,\n                                              nhdata,\n                                              calohits,\n                                              dNdx,\n                                              mc_vertices)\n\n# Prepare input tensors\nprintln(\"Preparing input tensors...\")\ninput_tensors = JetTaggingFCC.prepare_input_tensor(jet_constituents,\n                                                   jets,\n                                                   config,\n                                                   feature_data)\n\n# Run inference\nprintln(\"Running neural network inference...\")\nweights = JetTaggingFCC.get_weights(0,  # Thread slot\n                                    feature_data,\n                                    jets,\n                                    jet_constituents,\n                                    config,\n                                    model)"
  },
  {
   "cell_type": "code",
   "execution_count": null,
   "id": "95451c59",
   "metadata": {},
   "outputs": [],
   "source": "# Extract and display results\nprintln(\"\\n\" * \"=\"^60)\nprintln(\"FLAVOUR TAGGING RESULTS\")\nprintln(\"=\"^60)\n\nfor (jet_idx, jet) in enumerate(jets)\n    println(\"\\nJet $jet_idx (E=$(round(jet.E, digits=1)) GeV, pT=$(round(JetReconstruction.pt(jet), digits=1)) GeV):\")\n    println(\"-\"^40)\n    \n    # Collect scores for this jet\n    scores = Float32[]\n    labels = String[]\n    \n    for (i, score_name) in enumerate(config[\"output_names\"])\n        score = JetTaggingFCC.get_weight(weights, i - 1)[jet_idx]\n        push!(scores, score)\n        push!(labels, score_name)\n    end\n    \n    # Sort by probability (descending)\n    sorted_indices = sortperm(scores, rev = true)\n    \n    # Display scores\n    for idx in sorted_indices\n        label = labels[idx]\n        score = scores[idx]\n        \n        # Handle NaN or invalid scores\n        if isnan(score) || isinf(score)\n            flavor_map = Dict(\"recojet_isG\" => \"Gluon   \",\n                              \"recojet_isQ\" => \"Light q \",\n                              \"recojet_isS\" => \"Strange \",\n                              \"recojet_isC\" => \"Charm   \",\n                              \"recojet_isB\" => \"Bottom  \")\n            formatted_label = get(flavor_map, label, label)\n            println(\"  $formatted_label: [Invalid score]\")\n            continue\n        end\n        \n        bar_length = Int(round(score * 30))\n        bar = \"█\"^bar_length\n        percentage = round(score * 100, digits = 1)\n        \n        # Format label\n        flavor_map = Dict(\"recojet_isG\" => \"Gluon   \",\n                          \"recojet_isQ\" => \"Light q \",\n                          \"recojet_isS\" => \"Strange \",\n                          \"recojet_isC\" => \"Charm   \",\n                          \"recojet_isB\" => \"Bottom  \")\n        \n        formatted_label = get(flavor_map, label, label)\n        println(\"  $formatted_label: $bar $(percentage)%\")\n    end\n    \n    # Identify most likely flavour\n    max_idx = argmax(scores)\n    max_label = labels[max_idx]\n    max_score = scores[max_idx]\n    \n    flavour_name = Dict(\"recojet_isG\" => \"gluon\",\n                        \"recojet_isQ\" => \"light quark\",\n                        \"recojet_isS\" => \"strange\",\n                        \"recojet_isC\" => \"charm\",\n                        \"recojet_isB\" => \"bottom\")[max_label]\n    \n    println(\"\\n  → Most likely: $(flavour_name) ($(round(max_score * 100, digits=1))% confidence)\")\nend\n\nprintln(\"\\n\" * \"=\"^60)\nprintln(\"Processing complete!\")"
  }
 ],
 "metadata": {
  "kernelspec": {
   "display_name": "Julia 1.11.6",
   "language": "julia",
   "name": "julia-1.11"
  },
  "language_info": {
   "file_extension": ".jl",
   "mimetype": "application/julia",
   "name": "julia",
   "version": "1.11.6"
  }
 },
 "nbformat": 4,
 "nbformat_minor": 5
}